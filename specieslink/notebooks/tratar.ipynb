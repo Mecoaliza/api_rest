{
 "cells": [
  {
   "cell_type": "code",
   "execution_count": 1,
   "metadata": {},
   "outputs": [],
   "source": [
    "import json"
   ]
  },
  {
   "cell_type": "code",
   "execution_count": 2,
   "metadata": {},
   "outputs": [],
   "source": [
    "with open('../data_raw/cleaned_records.json', 'r') as file:\n",
    "    data = json.load(file)"
   ]
  },
  {
   "cell_type": "code",
   "execution_count": 3,
   "metadata": {},
   "outputs": [
    {
     "data": {
      "text/plain": [
       "dict_values(['DZSJRP-PISCES', '20954', 'Nannostomus beckfordi', 'Animalia', 'Lebiasinidae', 'Nannostomus', '2014', '10', '26', 'Brasil', 'Alagoas', 'Marechal Deodoro', 'Riacho sem nome', 'UNESP-IBILCE', 'Chordata', 'Actinopterygii', 'Characiformes', 'PreservedSpecimen', 'rmromero141026', '82', '-9.6935800000', '-35.9217500000', 5, 'beckfordi', '-35.92175', '-9.69358', '2019-11-01T15:08:06', 'Günther, 1872', '<nO><ll>dwc_commonname:</ll> Golden pencilfish</nO>'])"
      ]
     },
     "execution_count": 3,
     "metadata": {},
     "output_type": "execute_result"
    }
   ],
   "source": [
    "data[0].keys()\n",
    "\n",
    "data[0]['properties'].values()"
   ]
  },
  {
   "cell_type": "code",
   "execution_count": 4,
   "metadata": {},
   "outputs": [
    {
     "data": {
      "text/plain": [
       "{'collectioncode': 'DZSJRP-PISCES',\n",
       " 'catalognumber': '20954',\n",
       " 'scientificname': 'Nannostomus beckfordi',\n",
       " 'kingdom': 'Animalia',\n",
       " 'family': 'Lebiasinidae',\n",
       " 'genus': 'Nannostomus',\n",
       " 'yearcollected': '2014',\n",
       " 'monthcollected': '10',\n",
       " 'daycollected': '26',\n",
       " 'country': 'Brasil',\n",
       " 'stateprovince': 'Alagoas',\n",
       " 'county': 'Marechal Deodoro',\n",
       " 'locality': 'Riacho sem nome',\n",
       " 'institutioncode': 'UNESP-IBILCE',\n",
       " 'phylum': 'Chordata',\n",
       " 'class': 'Actinopterygii',\n",
       " 'order': 'Characiformes',\n",
       " 'basisofrecord': 'PreservedSpecimen',\n",
       " 'fieldnumber': 'rmromero141026',\n",
       " 'individualcount': '82',\n",
       " 'verbatimlatitude': '-9.6935800000',\n",
       " 'verbatimlongitude': '-35.9217500000',\n",
       " 'collectionid': 5,\n",
       " 'specificepithet': 'beckfordi',\n",
       " 'decimallongitude': '-35.92175',\n",
       " 'decimallatitude': '-9.69358',\n",
       " 'modified': '2019-11-01T15:08:06',\n",
       " 'scientificnameauthorship': 'Günther, 1872',\n",
       " 'occurrenceremarks': '<nO><ll>dwc_commonname:</ll> Golden pencilfish</nO>'}"
      ]
     },
     "execution_count": 4,
     "metadata": {},
     "output_type": "execute_result"
    }
   ],
   "source": [
    "data[12]['geometry']\n",
    "\n",
    "data[0]['properties']"
   ]
  },
  {
   "cell_type": "code",
   "execution_count": 5,
   "metadata": {},
   "outputs": [],
   "source": [
    "for record in data:\n",
    "    if 'geometry' in record and 'coordinates' in record['geometry']:\n",
    "        coordinates = record['geometry']['coordinates']\n",
    "        if isinstance(coordinates, list):\n",
    "            record['geometry']['coordinates'] = ', '.join(map(str, coordinates))"
   ]
  },
  {
   "cell_type": "code",
   "execution_count": 6,
   "metadata": {},
   "outputs": [
    {
     "data": {
      "text/plain": [
       "{'type': 'Point', 'coordinates': '-35.9399166667, -9.5566111111'}"
      ]
     },
     "execution_count": 6,
     "metadata": {},
     "output_type": "execute_result"
    }
   ],
   "source": [
    "data[12]['geometry']"
   ]
  },
  {
   "cell_type": "code",
   "execution_count": 7,
   "metadata": {},
   "outputs": [],
   "source": [
    "for record in data:\n",
    "    properties = record.get('properties', {})\n",
    "    day = properties.get('daycollected')\n",
    "    month = properties.get('monthcollected')\n",
    "    year = properties.get('yearcollected')\n",
    "    \n",
    "    date_parts = [day.zfill(2) if day else '', month.zfill(2) if month else '', year]\n",
    "    datecollected = '-'.join(part for part in date_parts if part)\n",
    "\n",
    "    if datecollected:\n",
    "        properties['datecollected'] = datecollected\n",
    "        # Remover os campos antigos\n",
    "        if 'daycollected' in properties:\n",
    "            del properties['daycollected']\n",
    "        if 'monthcollected' in properties:\n",
    "            del properties['monthcollected']\n",
    "        if 'yearcollected' in properties:\n",
    "            del properties['yearcollected']"
   ]
  },
  {
   "cell_type": "code",
   "execution_count": 8,
   "metadata": {},
   "outputs": [
    {
     "data": {
      "text/plain": [
       "{'collectioncode': 'CFBH',\n",
       " 'catalognumber': '16351',\n",
       " 'scientificname': 'Scinax',\n",
       " 'kingdom': 'Animalia',\n",
       " 'family': 'Hylidae',\n",
       " 'genus': 'Scinax',\n",
       " 'country': 'Brasil',\n",
       " 'stateprovince': 'AL',\n",
       " 'county': 'Campo Alegre',\n",
       " 'locality': 'Fazenda Pindoba',\n",
       " 'coordinateprecision': '21899',\n",
       " 'institutioncode': 'UNESPRC',\n",
       " 'basisofrecord': 'S',\n",
       " 'collectionid': 14,\n",
       " 'recordedby': 'BLOQUEADO',\n",
       " 'decimallongitude': '-36.3508',\n",
       " 'decimallatitude': '-9.78194',\n",
       " 'modified': '2013-07-18T15:18:12',\n",
       " 'occurrenceremarks': '<nO>ICST 627</nO>',\n",
       " 'datecollected': '16-06-2006'}"
      ]
     },
     "execution_count": 8,
     "metadata": {},
     "output_type": "execute_result"
    }
   ],
   "source": [
    "data[200]['properties']"
   ]
  },
  {
   "cell_type": "code",
   "execution_count": 9,
   "metadata": {},
   "outputs": [],
   "source": [
    "with open('../data_processed/dados_tratados.json', 'w') as f:\n",
    "    json.dump(data, f)"
   ]
  },
  {
   "cell_type": "code",
   "execution_count": null,
   "metadata": {},
   "outputs": [],
   "source": []
  }
 ],
 "metadata": {
  "kernelspec": {
   "display_name": ".venv",
   "language": "python",
   "name": "python3"
  },
  "language_info": {
   "codemirror_mode": {
    "name": "ipython",
    "version": 3
   },
   "file_extension": ".py",
   "mimetype": "text/x-python",
   "name": "python",
   "nbconvert_exporter": "python",
   "pygments_lexer": "ipython3",
   "version": "3.10.12"
  }
 },
 "nbformat": 4,
 "nbformat_minor": 2
}
