{
 "cells": [
  {
   "cell_type": "code",
   "execution_count": 40,
   "metadata": {},
   "outputs": [],
   "source": [
    "import pandas as pd\n",
    "import json\n",
    "from sklearn.feature_extraction.text import TfidfVectorizer\n",
    "from sklearn.cluster import KMeans\n"
   ]
  },
  {
   "cell_type": "code",
   "execution_count": 41,
   "metadata": {},
   "outputs": [],
   "source": [
    "file = '../data_processed/df_csv_tratado.csv'"
   ]
  },
  {
   "cell_type": "code",
   "execution_count": 42,
   "metadata": {},
   "outputs": [],
   "source": [
    "df = pd.read_csv(file)"
   ]
  },
  {
   "cell_type": "code",
   "execution_count": 43,
   "metadata": {},
   "outputs": [
    {
     "data": {
      "text/html": [
       "<div>\n",
       "<style scoped>\n",
       "    .dataframe tbody tr th:only-of-type {\n",
       "        vertical-align: middle;\n",
       "    }\n",
       "\n",
       "    .dataframe tbody tr th {\n",
       "        vertical-align: top;\n",
       "    }\n",
       "\n",
       "    .dataframe thead th {\n",
       "        text-align: right;\n",
       "    }\n",
       "</style>\n",
       "<table border=\"1\" class=\"dataframe\">\n",
       "  <thead>\n",
       "    <tr style=\"text-align: right;\">\n",
       "      <th></th>\n",
       "      <th>collectioncode</th>\n",
       "      <th>locality</th>\n",
       "      <th>genus</th>\n",
       "      <th>catalognumber</th>\n",
       "      <th>country</th>\n",
       "      <th>basisofrecord</th>\n",
       "      <th>stateprovince</th>\n",
       "      <th>institutioncode</th>\n",
       "      <th>continentocean</th>\n",
       "      <th>scientificname</th>\n",
       "      <th>...</th>\n",
       "      <th>recordnumber</th>\n",
       "      <th>specificepithet</th>\n",
       "      <th>decimallongitude</th>\n",
       "      <th>recordedby</th>\n",
       "      <th>collectionid</th>\n",
       "      <th>scientificnameauthorship</th>\n",
       "      <th>datecollected</th>\n",
       "      <th>coordinates</th>\n",
       "      <th>county</th>\n",
       "      <th>verbatimlatitude</th>\n",
       "    </tr>\n",
       "  </thead>\n",
       "  <tbody>\n",
       "    <tr>\n",
       "      <th>0</th>\n",
       "      <td>MO</td>\n",
       "      <td>Município de Quebrangulo. Reserva Biológica de...</td>\n",
       "      <td>Senna</td>\n",
       "      <td>3261795</td>\n",
       "      <td>Brazil</td>\n",
       "      <td>PreservedSpecimen</td>\n",
       "      <td>Alagoas</td>\n",
       "      <td>MO</td>\n",
       "      <td>South America</td>\n",
       "      <td>Senna chrysocarpa</td>\n",
       "      <td>...</td>\n",
       "      <td>Cervi 7359</td>\n",
       "      <td>chrysocarpa</td>\n",
       "      <td>-36.41666</td>\n",
       "      <td>Armando C. Cervi|Rodolphe E. Spichiger|Pierre ...</td>\n",
       "      <td>88</td>\n",
       "      <td>(Desv.) H.S. Irwin &amp; Barneby</td>\n",
       "      <td>16-01-1994</td>\n",
       "      <td>-36.41666, -9.25</td>\n",
       "      <td>Não informado</td>\n",
       "      <td>Não informado</td>\n",
       "    </tr>\n",
       "    <tr>\n",
       "      <th>1</th>\n",
       "      <td>MO</td>\n",
       "      <td>Municipio de Quebrangulo. Reserva Biologica de...</td>\n",
       "      <td>Senna</td>\n",
       "      <td>3260083</td>\n",
       "      <td>Brazil</td>\n",
       "      <td>PreservedSpecimen</td>\n",
       "      <td>Alagoas</td>\n",
       "      <td>MO</td>\n",
       "      <td>South America</td>\n",
       "      <td>Senna obtusifolia</td>\n",
       "      <td>...</td>\n",
       "      <td>Cervi 7146</td>\n",
       "      <td>obtusifolia</td>\n",
       "      <td>-36.41666</td>\n",
       "      <td>Armando C. Cervi|Rodolphe E. Spichiger|Pierre ...</td>\n",
       "      <td>88</td>\n",
       "      <td>(L.) H.S. Irwin &amp; Barneby</td>\n",
       "      <td>22-10-1994</td>\n",
       "      <td>-36.41666, -9.25</td>\n",
       "      <td>Não informado</td>\n",
       "      <td>Não informado</td>\n",
       "    </tr>\n",
       "  </tbody>\n",
       "</table>\n",
       "<p>2 rows × 24 columns</p>\n",
       "</div>"
      ],
      "text/plain": [
       "  collectioncode                                           locality  genus  \\\n",
       "0             MO  Município de Quebrangulo. Reserva Biológica de...  Senna   \n",
       "1             MO  Municipio de Quebrangulo. Reserva Biologica de...  Senna   \n",
       "\n",
       "  catalognumber country      basisofrecord stateprovince institutioncode  \\\n",
       "0       3261795  Brazil  PreservedSpecimen       Alagoas              MO   \n",
       "1       3260083  Brazil  PreservedSpecimen       Alagoas              MO   \n",
       "\n",
       "  continentocean     scientificname  ... recordnumber specificepithet  \\\n",
       "0  South America  Senna chrysocarpa  ...   Cervi 7359     chrysocarpa   \n",
       "1  South America  Senna obtusifolia  ...   Cervi 7146     obtusifolia   \n",
       "\n",
       "  decimallongitude                                         recordedby  \\\n",
       "0        -36.41666  Armando C. Cervi|Rodolphe E. Spichiger|Pierre ...   \n",
       "1        -36.41666  Armando C. Cervi|Rodolphe E. Spichiger|Pierre ...   \n",
       "\n",
       "  collectionid      scientificnameauthorship  datecollected       coordinates  \\\n",
       "0           88  (Desv.) H.S. Irwin & Barneby     16-01-1994  -36.41666, -9.25   \n",
       "1           88     (L.) H.S. Irwin & Barneby     22-10-1994  -36.41666, -9.25   \n",
       "\n",
       "          county verbatimlatitude  \n",
       "0  Não informado    Não informado  \n",
       "1  Não informado    Não informado  \n",
       "\n",
       "[2 rows x 24 columns]"
      ]
     },
     "execution_count": 43,
     "metadata": {},
     "output_type": "execute_result"
    }
   ],
   "source": [
    "df.head(2)"
   ]
  },
  {
   "cell_type": "code",
   "execution_count": 44,
   "metadata": {},
   "outputs": [
    {
     "data": {
      "text/plain": [
       "1446"
      ]
     },
     "execution_count": 44,
     "metadata": {},
     "output_type": "execute_result"
    }
   ],
   "source": [
    "df['locality'].nunique()"
   ]
  },
  {
   "cell_type": "code",
   "execution_count": 45,
   "metadata": {},
   "outputs": [],
   "source": [
    "def normalizar_municipios(df, coluna):\n",
    "    \n",
    "    vectorizer = TfidfVectorizer()\n",
    "    X = vectorizer.fit_transform(df[coluna])\n",
    "\n",
    "    \n",
    "    num_clusters = min(len(df[coluna].unique()) // 10, len(df))  \n",
    "\n",
    "    kmeans = KMeans(n_clusters=num_clusters, random_state=0).fit(X)\n",
    "\n",
    "    \n",
    "    df['cluster'] = kmeans.labels_\n",
    "\n",
    "    df['municipio_normalizado'] = df.groupby('cluster')[coluna].transform(lambda x: x.mode()[0])\n",
    "\n",
    "    return df"
   ]
  },
  {
   "cell_type": "code",
   "execution_count": 46,
   "metadata": {},
   "outputs": [],
   "source": [
    "df_normalizado = normalizar_municipios(df, 'locality')"
   ]
  },
  {
   "cell_type": "code",
   "execution_count": 47,
   "metadata": {},
   "outputs": [
    {
     "data": {
      "text/plain": [
       "array(['Município de Quebrangulo. Reserva Biológica de Pedra Talhada, Agreste, Area de transição Florestas Estacional Semidecidual/ Decidual. Contrafortes da Borborema, solos argilosos profundos com aflor. de rochas (gneiss).',\n",
       "       'Municipio de Quebrangulo. Reserva Biologica de Pedra Talhada. Agreste, Area de transicao Florestas Estacional demidecidual/Decidual Contrafortes da Borborema, solos argiloso profundos com alfor. de rochas (gneiss).',\n",
       "       'Município de Quebrangulo. Reserva Biológica de Pedra Talhada, Agreste, Area de transição Florestas Estacional Semidecidual/Decidual Contrafortes da Borborema, solos argilosos profundos com aflor. de rochas (gneiss).',\n",
       "       ..., 'Riacho 11, CELMM', 'Riacho 14, CELMM, bacia do Rio Mundaú',\n",
       "       'BLOQUEADO'], dtype=object)"
      ]
     },
     "execution_count": 47,
     "metadata": {},
     "output_type": "execute_result"
    }
   ],
   "source": [
    "df['locality'].unique()"
   ]
  },
  {
   "cell_type": "code",
   "execution_count": 48,
   "metadata": {},
   "outputs": [
    {
     "data": {
      "text/plain": [
       "1446"
      ]
     },
     "execution_count": 48,
     "metadata": {},
     "output_type": "execute_result"
    }
   ],
   "source": [
    "df['locality'].nunique()"
   ]
  },
  {
   "cell_type": "code",
   "execution_count": 49,
   "metadata": {},
   "outputs": [
    {
     "data": {
      "text/plain": [
       "array(['Mpio de Quebrangulo. Reserva Biológica de Pedra Talhada. Agreste, Area de transiçao Florestas Estacional Semidecidual/Decidual. Contrafortes da Borborema, solos argilosos profundos com aflor. de rochas (gneiss).',\n",
       "       \"Poço D'Anta, ca. 16-19 km NNW of Muricí by road. Mata de Muricí.\",\n",
       "       'Reserva Biológica de Pedra Talhada', 'APA de Santa Rita',\n",
       "       '4km do trevo do Francês na direção de Marechal Deodoro.',\n",
       "       'About 35 km N of Maceió',\n",
       "       'Near Japaratinga, 100km NE from Maceió. On the sands by sea.',\n",
       "       'Rodovia AL 101, ca. 2 km do entroncamento da AL 215, sentido Piaçabuçu. Dunas do Cavalo Russo.',\n",
       "       'REBIO Pedra Talhada Caminho principal após a entrada para a Pedra Talhada.',\n",
       "       '3km distante de Feliz Deserto. Mata em capoeira. Solo bem drenado.',\n",
       "       'near Maceió.', 'Engenho Coimbra',\n",
       "       'Sítio Campo Grande, Rod. AL-101, estrada secundária a 0,5Km a direita, sentido Barra de São Miguel.',\n",
       "       'Fazenda Camarão, próximo à estação da Petrobrás. Rod. BR 316, 8 km antes do entroncamento para Satuba, estrada sec. à dir. Limite oeste da Lagoa Manguaba.',\n",
       "       'Não informado', 'MACEIO',\n",
       "       'Barra de São Miguel, Reserva Particular do Patrimonio Natural (RPPN) Rosa do Sol',\n",
       "       'Ilha do Ferro',\n",
       "       '3 km depois da zona urbana, na direção da Ilha do Ferro, solo avermelhado e pedregoso, em encosta de serra.',\n",
       "       'Fazenda Capelinha',\n",
       "       'Monumento Natural do Rio São Francisco, Vale dos Mestres',\n",
       "       'Usina Serra Grande, Coimbra.', 'Fazenda Sebastião Ferreira',\n",
       "       'Mata do Varrela', 'Fazenda São José', 'Fazenda Iguape',\n",
       "       'Coimbra - Borda da mata.', 'Nas proximidades do ALPE246P16.',\n",
       "       'Fazenda Pau Brasil', 'Fazenda Baixa da Légua',\n",
       "       'Mata do Varrela, Povoado Bernardo Lopes.', 'Usina Serra Grande',\n",
       "       'Mata do Catolé', 'Alto da Serra da Naceia',\n",
       "       'Coimbra - Interior da mata.',\n",
       "       'Reserva Florestal da USGA - Início.',\n",
       "       'Coimbra - Margem da estrada.',\n",
       "       '4 km do entroncamento da Praia do Francês.',\n",
       "       'Mata dos Cajueiros, próximo Piaçabuçu, Apiário dos Cajueiros',\n",
       "       'Coimbra - Próximo ao Vilarejo.', 'Fazenda Catitu',\n",
       "       'Fazenda Santo Antônio', 'Engenho Novo', 'Mata do Lamarão',\n",
       "       'Comunidade Lagoa do Junco.',\n",
       "       'Rio Ribeira do Capiá. Alt.: 230 m. Geologia: Cristalino.',\n",
       "       'Pequena remanescente próximo à estrada.',\n",
       "       'Município de Olho D`Água do Casado', 'AL 220 a 19 km de Delmiro.',\n",
       "       'Serra do Parafuso. Caatinga arbórea densa. Solo arenoso.',\n",
       "       'Praia da Garça Torta', 'Praia de Pajussara', 'Fazenda Santa Fé',\n",
       "       'Apiário Fernão Velho', 'Riachão', 'Fazenda Utinga',\n",
       "       'Mata do Varela', 'Serra de Pão de Açucar',\n",
       "       'Descida de Pau de Ferro', \"Pau d'alho, Torres de Transmissão\",\n",
       "       'Serra da Cachoeira.', 'Lagoa Nova', 'Faz. Capelinha',\n",
       "       'Amostras coletadas manualmente na região do mesolitoral',\n",
       "       'UHE - Xingó', 'Riacho 17, CELMM, bacia do Rio Sumaúma',\n",
       "       'Lagoa Mundaú', 'Fazenda Mecejana', 'Serra do Paraíso',\n",
       "       'Fazenda Poço', 'Mata do Sinimbu', 'Fazenda Sinimbú',\n",
       "       'Fazenda Ximenes', 'Alto do Guzerá.', 'Coimbra - Grota do Varjão.',\n",
       "       'Margem do São Francisco, defronte a cidade de Barra.',\n",
       "       'Mata do Beque', 'Morro do Porco ou Morro da Microondas',\n",
       "       'Mutange, Instituto do Meio Ambiente.',\n",
       "       'Área descampada - capoeira.', 'Parque Estadual da Pedra Talhada',\n",
       "       'Parque Municipal de Maceió',\n",
       "       'Boa Vista, Serra da Boa Vista, Cruzeiro. Serra com afloramentos rochosos graníticos com vegetação rupestre e Caatinga Arbustiva Arbórea Desnsa',\n",
       "       'Praia do Pontal da Barra', 'Posto Agropecuário',\n",
       "       'Praia de Ponta Verde', 'Praia Pajuçara',\n",
       "       'Propriedade Eixo. Sombra da mata.', 'Fazenda Vera Cruz',\n",
       "       'Retiro (Carrasco)', 'Retiro (Lalo/Patos)',\n",
       "       \"Santuário Ecológico da Serra D'Água.\", 'Serra das Bananeiras.',\n",
       "       'Fazenda Amor, somewhere on dirt road to the right off to BR-104 at 17 km from the junction with BR-101.',\n",
       "       'Rodovia AL 101, 500 m do Posto Rodoviário.',\n",
       "       'Usina Coruripe, Mata do Capiata.', 'Alagoas', 'Coruripe',\n",
       "       'Reserva Biologica de Pedra Talhada', 'Coimbra - Grota da Burra.',\n",
       "       'Riacho Doce', 'Serra do Sabonete, Sítio Areias.',\n",
       "       'Coimbra - Caminho para a Grota da Burra.', 'Serra do Ouro.',\n",
       "       'Fazenda Talhado', 'Fazenda Curralinho', 'Faz. Mecejana',\n",
       "       'Faz. Vera Cruz', 'Riacho 15, CELMM', 'Riacho sem nome',\n",
       "       'Universidade Federal de Alagoas', 'Bananeiras.',\n",
       "       \"Poço D'Anta, ca. 16-19Km NNW de Muricí perto da Rodovia. Mata de Muricí.\",\n",
       "       'Sera das Águas Belas. 18,5Km ao N da junção BR-101/Rod. p/ Maceió, depois 2-3Km ao W da estrada de barro.',\n",
       "       'E.E.de Muricí.', 'Coimbra - Grota do Dudé.', 'Coimbra',\n",
       "       'Coimbra - Cerrado da Burra.', 'Petrópolis', 'Serra da Onça',\n",
       "       'Pilar, Reserva Particular do Patrimonio Natural (RPPN) Fazenda Sao Pedro',\n",
       "       'Pilar, Reserva Particular do Patrimonio Natural (RPPN) Fazenda Sao Pedro: forest along main trail (transect study)',\n",
       "       'Mirante das Sereias', 'Complexo Mundau/Manguaba', 'offshore',\n",
       "       'Mundau Lagoon', 'Barragem de Manibu', 'Fazenda Pindoba',\n",
       "       'Represa de Xingó', 'Sítio Macacos', 'Sítio Renascença',\n",
       "       'UHE - 11ngó, Piranhas, Alagoas/Br', 'Apiário Primavera',\n",
       "       'Apiário Ilha do Porto',\n",
       "       'E.E. de Muricí (Mata próxima a antena de TV desativada).',\n",
       "       'Recife Marisco - 812444 E (UTM) 8874536 N (UTM)', 'Jaraguá',\n",
       "       'Município de Piranhas', 'Aquidabã',\n",
       "       'Sítio Pé de Serra, Serra do Simão.', 'Sítio Macin.',\n",
       "       'Afloramentos quartizíticos na base da Serra do Parafuso. Caatinga Arbustiva Arbórea Densa. Solo arenoso.',\n",
       "       'Sítio Mancin.', 'BLOQUEADO'], dtype=object)"
      ]
     },
     "execution_count": 49,
     "metadata": {},
     "output_type": "execute_result"
    }
   ],
   "source": [
    "df_normalizado['municipio_normalizado'].unique()"
   ]
  },
  {
   "cell_type": "code",
   "execution_count": 50,
   "metadata": {},
   "outputs": [
    {
     "data": {
      "text/plain": [
       "144"
      ]
     },
     "execution_count": 50,
     "metadata": {},
     "output_type": "execute_result"
    }
   ],
   "source": [
    "df_normalizado['municipio_normalizado'].nunique()"
   ]
  }
 ],
 "metadata": {
  "kernelspec": {
   "display_name": ".venv",
   "language": "python",
   "name": "python3"
  },
  "language_info": {
   "codemirror_mode": {
    "name": "ipython",
    "version": 3
   },
   "file_extension": ".py",
   "mimetype": "text/x-python",
   "name": "python",
   "nbconvert_exporter": "python",
   "pygments_lexer": "ipython3",
   "version": "3.10.12"
  }
 },
 "nbformat": 4,
 "nbformat_minor": 2
}
