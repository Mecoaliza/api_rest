{
 "cells": [
  {
   "cell_type": "code",
   "execution_count": 1,
   "metadata": {},
   "outputs": [],
   "source": [
    "import json"
   ]
  },
  {
   "cell_type": "code",
   "execution_count": 4,
   "metadata": {},
   "outputs": [],
   "source": [
    "with open('../data_raw/cleaned_records.json', 'r') as file:\n",
    "    data = json.load(file)"
   ]
  },
  {
   "cell_type": "code",
   "execution_count": 5,
   "metadata": {},
   "outputs": [
    {
     "data": {
      "text/plain": [
       "dict_values(['MO', '1994', 'Município de Quebrangulo. Reserva Biológica de Pedra Talhada, Agreste, Area de transição Florestas Estacional Semidecidual/ Decidual. Contrafortes da Borborema, solos argilosos profundos com aflor. de rochas (gneiss).', '16', 'Senna', '3261795', 'Brazil', '1', 'PreservedSpecimen', 'MO0100468765', 'Alagoas', 'MO', 'South America', 'Senna chrysocarpa', 'Plantae', 'Fabaceae', '2010-05-13T21:22:00', '-9.25', 'Cervi 7359', 'chrysocarpa', '-36.41666', 'Armando C. Cervi|Rodolphe E. Spichiger|Pierre A. Loizeau|E. Cottier', 88, '(Desv.) H.S. Irwin & Barneby'])"
      ]
     },
     "execution_count": 5,
     "metadata": {},
     "output_type": "execute_result"
    }
   ],
   "source": [
    "data[0].keys()\n",
    "\n",
    "data[0]['properties'].values()"
   ]
  },
  {
   "cell_type": "code",
   "execution_count": 6,
   "metadata": {},
   "outputs": [
    {
     "data": {
      "text/plain": [
       "{'collectioncode': 'MO',\n",
       " 'yearcollected': '1994',\n",
       " 'locality': 'Município de Quebrangulo. Reserva Biológica de Pedra Talhada, Agreste, Area de transição Florestas Estacional Semidecidual/ Decidual. Contrafortes da Borborema, solos argilosos profundos com aflor. de rochas (gneiss).',\n",
       " 'daycollected': '16',\n",
       " 'genus': 'Senna',\n",
       " 'catalognumber': '3261795',\n",
       " 'country': 'Brazil',\n",
       " 'monthcollected': '1',\n",
       " 'basisofrecord': 'PreservedSpecimen',\n",
       " 'barcode': 'MO0100468765',\n",
       " 'stateprovince': 'Alagoas',\n",
       " 'institutioncode': 'MO',\n",
       " 'continentocean': 'South America',\n",
       " 'scientificname': 'Senna chrysocarpa',\n",
       " 'kingdom': 'Plantae',\n",
       " 'family': 'Fabaceae',\n",
       " 'modified': '2010-05-13T21:22:00',\n",
       " 'decimallatitude': '-9.25',\n",
       " 'recordnumber': 'Cervi 7359',\n",
       " 'specificepithet': 'chrysocarpa',\n",
       " 'decimallongitude': '-36.41666',\n",
       " 'recordedby': 'Armando C. Cervi|Rodolphe E. Spichiger|Pierre A. Loizeau|E. Cottier',\n",
       " 'collectionid': 88,\n",
       " 'scientificnameauthorship': '(Desv.) H.S. Irwin & Barneby'}"
      ]
     },
     "execution_count": 6,
     "metadata": {},
     "output_type": "execute_result"
    }
   ],
   "source": [
    "data[12]['geometry']\n",
    "\n",
    "data[0]['properties']"
   ]
  },
  {
   "cell_type": "code",
   "execution_count": 7,
   "metadata": {},
   "outputs": [],
   "source": [
    "for record in data:\n",
    "    if 'geometry' in record and 'coordinates' in record['geometry']:\n",
    "        coordinates = record['geometry']['coordinates']\n",
    "        if isinstance(coordinates, list):\n",
    "            record['geometry']['coordinates'] = ', '.join(map(str, coordinates))"
   ]
  },
  {
   "cell_type": "code",
   "execution_count": 8,
   "metadata": {},
   "outputs": [
    {
     "data": {
      "text/plain": [
       "{'type': 'Point', 'coordinates': '-36.4166667, -9.25'}"
      ]
     },
     "execution_count": 8,
     "metadata": {},
     "output_type": "execute_result"
    }
   ],
   "source": [
    "data[12]['geometry']"
   ]
  },
  {
   "cell_type": "code",
   "execution_count": 10,
   "metadata": {},
   "outputs": [],
   "source": [
    "for record in data:\n",
    "    properties = record.get('properties', {})\n",
    "    day = properties.get('daycollected')\n",
    "    month = properties.get('monthcollected')\n",
    "    year = properties.get('yearcollected')\n",
    "    \n",
    "    date_parts = [day.zfill(2) if day else '', month.zfill(2) if month else '', year]\n",
    "    datecollected = '-'.join(part for part in date_parts if part)\n",
    "\n",
    "    if datecollected:\n",
    "        properties['datecollected'] = datecollected\n",
    "        # Remover os campos antigos\n",
    "        if 'daycollected' in properties:\n",
    "            del properties['daycollected']\n",
    "        if 'monthcollected' in properties:\n",
    "            del properties['monthcollected']\n",
    "        if 'yearcollected' in properties:\n",
    "            del properties['yearcollected']"
   ]
  },
  {
   "cell_type": "code",
   "execution_count": 11,
   "metadata": {},
   "outputs": [
    {
     "data": {
      "text/plain": [
       "{'collectioncode': 'IPA',\n",
       " 'county': 'Estrela de Alagoas',\n",
       " 'locality': 'Fazenda Catitu',\n",
       " 'genus': 'Richardia',\n",
       " 'catalognumber': '67720',\n",
       " 'country': 'Brasil',\n",
       " 'basisofrecord': 'S',\n",
       " 'barcode': 'IPA0067720',\n",
       " 'stateprovince': 'Alagoas',\n",
       " 'verbatimlatitude': '-9.383333',\n",
       " 'institutioncode': 'IPA',\n",
       " 'continentocean': 'Southern America',\n",
       " 'verbatimlongitude': '-36.770833',\n",
       " 'scientificname': 'Richardia',\n",
       " 'kingdom': 'Plantae',\n",
       " 'phylum': 'Plantae',\n",
       " 'family': 'Rubiaceae',\n",
       " 'modified': '2024-05-06T15:47:19',\n",
       " 'decimallatitude': '-9.383333',\n",
       " 'recordnumber': '5335',\n",
       " 'occurrenceremarks': '<nO>Erva prostrada; flores brancas.; Caatinga secundária.</nO>',\n",
       " 'decimallongitude': '-36.770833',\n",
       " 'recordedby': 'Lyra-Lemos, R.P.',\n",
       " 'collectionid': 148,\n",
       " 'datecollected': '18-01-2001'}"
      ]
     },
     "execution_count": 11,
     "metadata": {},
     "output_type": "execute_result"
    }
   ],
   "source": [
    "data[200]['properties']"
   ]
  },
  {
   "cell_type": "code",
   "execution_count": 12,
   "metadata": {},
   "outputs": [],
   "source": [
    "with open('../data_processed/dados_tratados.json', 'w') as f:\n",
    "    json.dump(data, f)"
   ]
  }
 ],
 "metadata": {
  "kernelspec": {
   "display_name": ".venv",
   "language": "python",
   "name": "python3"
  },
  "language_info": {
   "codemirror_mode": {
    "name": "ipython",
    "version": 3
   },
   "file_extension": ".py",
   "mimetype": "text/x-python",
   "name": "python",
   "nbconvert_exporter": "python",
   "pygments_lexer": "ipython3",
   "version": "3.10.12"
  }
 },
 "nbformat": 4,
 "nbformat_minor": 2
}
