{
 "cells": [
  {
   "cell_type": "code",
   "execution_count": 3,
   "metadata": {},
   "outputs": [],
   "source": [
    "import json"
   ]
  },
  {
   "cell_type": "code",
   "execution_count": 1,
   "metadata": {},
   "outputs": [],
   "source": [
    "path_json = \"../data_raw/all_records.json\""
   ]
  },
  {
   "cell_type": "code",
   "execution_count": 4,
   "metadata": {},
   "outputs": [],
   "source": [
    "with open(path_json, 'r') as file:\n",
    "    data = json.load(file)"
   ]
  },
  {
   "cell_type": "code",
   "execution_count": 5,
   "metadata": {},
   "outputs": [
    {
     "data": {
      "text/plain": [
       "dict_keys(['type', 'geometry', 'properties'])"
      ]
     },
     "execution_count": 5,
     "metadata": {},
     "output_type": "execute_result"
    }
   ],
   "source": [
    "data[0]['properties']\n",
    "data[0]['geometry']\n",
    "data[0].keys()"
   ]
  },
  {
   "cell_type": "code",
   "execution_count": 6,
   "metadata": {},
   "outputs": [
    {
     "data": {
      "text/plain": [
       "['collectioncode',\n",
       " 'yearcollected',\n",
       " 'locality',\n",
       " 'daycollected',\n",
       " 'genus',\n",
       " 'catalognumber',\n",
       " 'country',\n",
       " 'monthcollected',\n",
       " 'basisofrecord',\n",
       " 'barcode',\n",
       " 'stateprovince',\n",
       " 'institutioncode',\n",
       " 'continentocean',\n",
       " 'scientificname',\n",
       " 'kingdom',\n",
       " 'family',\n",
       " 'modified',\n",
       " 'decimallatitude',\n",
       " 'recordnumber',\n",
       " 'specificepithet',\n",
       " 'decimallongitude',\n",
       " 'recordedby',\n",
       " 'collectionid',\n",
       " 'scientificnameauthorship']"
      ]
     },
     "execution_count": 6,
     "metadata": {},
     "output_type": "execute_result"
    }
   ],
   "source": [
    "list(data[0]['properties'].keys())"
   ]
  },
  {
   "cell_type": "code",
   "execution_count": 8,
   "metadata": {},
   "outputs": [],
   "source": [
    "dados_cleaned = []"
   ]
  },
  {
   "cell_type": "code",
   "execution_count": 9,
   "metadata": {},
   "outputs": [],
   "source": [
    "with open(path_json, 'r') as file:\n",
    "    data = json.load(file)\n",
    "    for record in data:\n",
    "        if 'type' in record:\n",
    "            del record['type']\n",
    "        dados_cleaned.append(record)"
   ]
  },
  {
   "cell_type": "code",
   "execution_count": 12,
   "metadata": {},
   "outputs": [],
   "source": [
    "with open('../data_raw/cleaned_records.json', 'w') as f:\n",
    "    json.dump(dados_cleaned, f)"
   ]
  }
 ],
 "metadata": {
  "kernelspec": {
   "display_name": ".venv",
   "language": "python",
   "name": "python3"
  },
  "language_info": {
   "codemirror_mode": {
    "name": "ipython",
    "version": 3
   },
   "file_extension": ".py",
   "mimetype": "text/x-python",
   "name": "python",
   "nbconvert_exporter": "python",
   "pygments_lexer": "ipython3",
   "version": "3.10.12"
  }
 },
 "nbformat": 4,
 "nbformat_minor": 2
}
