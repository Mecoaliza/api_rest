{
 "cells": [
  {
   "cell_type": "code",
   "execution_count": 1,
   "metadata": {},
   "outputs": [],
   "source": [
    "import json"
   ]
  },
  {
   "cell_type": "code",
   "execution_count": 2,
   "metadata": {},
   "outputs": [],
   "source": [
    "path_json = \"../data_raw/all_records.json\""
   ]
  },
  {
   "cell_type": "code",
   "execution_count": 3,
   "metadata": {},
   "outputs": [],
   "source": [
    "with open(path_json, 'r') as file:\n",
    "    data = json.load(file)"
   ]
  },
  {
   "cell_type": "code",
   "execution_count": 4,
   "metadata": {},
   "outputs": [
    {
     "data": {
      "text/plain": [
       "dict_keys(['type', 'geometry', 'properties'])"
      ]
     },
     "execution_count": 4,
     "metadata": {},
     "output_type": "execute_result"
    }
   ],
   "source": [
    "data[0]['properties']\n",
    "data[0]['geometry']\n",
    "data[0].keys()"
   ]
  },
  {
   "cell_type": "code",
   "execution_count": 5,
   "metadata": {},
   "outputs": [
    {
     "data": {
      "text/plain": [
       "['collectioncode',\n",
       " 'catalognumber',\n",
       " 'scientificname',\n",
       " 'kingdom',\n",
       " 'family',\n",
       " 'genus',\n",
       " 'yearcollected',\n",
       " 'monthcollected',\n",
       " 'daycollected',\n",
       " 'country',\n",
       " 'stateprovince',\n",
       " 'county',\n",
       " 'locality',\n",
       " 'institutioncode',\n",
       " 'phylum',\n",
       " 'class',\n",
       " 'order',\n",
       " 'basisofrecord',\n",
       " 'fieldnumber',\n",
       " 'individualcount',\n",
       " 'verbatimlatitude',\n",
       " 'verbatimlongitude',\n",
       " 'collectionid',\n",
       " 'specificepithet',\n",
       " 'decimallongitude',\n",
       " 'decimallatitude',\n",
       " 'modified',\n",
       " 'scientificnameauthorship',\n",
       " 'occurrenceremarks']"
      ]
     },
     "execution_count": 5,
     "metadata": {},
     "output_type": "execute_result"
    }
   ],
   "source": [
    "list(data[0]['properties'].keys())"
   ]
  },
  {
   "cell_type": "code",
   "execution_count": 6,
   "metadata": {},
   "outputs": [],
   "source": [
    "dados_cleaned = []"
   ]
  },
  {
   "cell_type": "code",
   "execution_count": 7,
   "metadata": {},
   "outputs": [],
   "source": [
    "with open(path_json, 'r') as file:\n",
    "    data = json.load(file)\n",
    "    for record in data:\n",
    "        if 'type' in record:\n",
    "            del record['type']\n",
    "        dados_cleaned.append(record)"
   ]
  },
  {
   "cell_type": "code",
   "execution_count": 8,
   "metadata": {},
   "outputs": [],
   "source": [
    "with open('../data_raw/cleaned_records.json', 'w') as f:\n",
    "    json.dump(dados_cleaned, f)"
   ]
  }
 ],
 "metadata": {
  "kernelspec": {
   "display_name": ".venv",
   "language": "python",
   "name": "python3"
  },
  "language_info": {
   "codemirror_mode": {
    "name": "ipython",
    "version": 3
   },
   "file_extension": ".py",
   "mimetype": "text/x-python",
   "name": "python",
   "nbconvert_exporter": "python",
   "pygments_lexer": "ipython3",
   "version": "3.10.12"
  }
 },
 "nbformat": 4,
 "nbformat_minor": 2
}
